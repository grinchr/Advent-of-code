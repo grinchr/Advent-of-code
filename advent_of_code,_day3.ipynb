{
  "nbformat": 4,
  "nbformat_minor": 0,
  "metadata": {
    "colab": {
      "provenance": [],
      "mount_file_id": "1ic8gYZu7s0w7FWerfAcqHVnqKARm80RH",
      "authorship_tag": "ABX9TyORotLClDlts2NVEq/pmCwO",
      "include_colab_link": true
    },
    "kernelspec": {
      "name": "python3",
      "display_name": "Python 3"
    },
    "language_info": {
      "name": "python"
    }
  },
  "cells": [
    {
      "cell_type": "markdown",
      "metadata": {
        "id": "view-in-github",
        "colab_type": "text"
      },
      "source": [
        "<a href=\"https://colab.research.google.com/github/grinchr/Advent-of-code/blob/main/advent_of_code%2C_day3.ipynb\" target=\"_parent\"><img src=\"https://colab.research.google.com/assets/colab-badge.svg\" alt=\"Open In Colab\"/></a>"
      ]
    },
    {
      "cell_type": "code",
      "source": [
        "data = open('/content/data_day3.txt', 'r').read().split('\\n')"
      ],
      "metadata": {
        "id": "jOZcyVo0fsKS"
      },
      "execution_count": 83,
      "outputs": []
    },
    {
      "cell_type": "code",
      "source": [
        "import string\n",
        "keys = list(string.ascii_lowercase)+list(string.ascii_uppercase)\n",
        "map = dict(zip(keys, range(1,53)))"
      ],
      "metadata": {
        "id": "jIuE1WWKeEPx"
      },
      "execution_count": 32,
      "outputs": []
    },
    {
      "cell_type": "code",
      "source": [
        "import numpy as np\n",
        "p=0\n",
        "for elm in data:\n",
        "    n = int(len(elm)/2)\n",
        "    for char in elm[:n]:\n",
        "      if char in elm[n:]:\n",
        "        p += map[char]\n",
        "        break\n",
        "\n",
        "\n",
        "p"
      ],
      "metadata": {
        "colab": {
          "base_uri": "https://localhost:8080/"
        },
        "id": "yuPuO2dUeiPT",
        "outputId": "53411f96-0954-4c98-9f14-f5750204384e"
      },
      "execution_count": 86,
      "outputs": [
        {
          "output_type": "execute_result",
          "data": {
            "text/plain": [
              "7785"
            ]
          },
          "metadata": {},
          "execution_count": 86
        }
      ]
    },
    {
      "cell_type": "code",
      "source": [
        "import numpy as np\n",
        "data = open('/content/data_day3.txt', 'r').read().split('\\n')\n",
        "data = np.array(data).reshape(100,3)\n",
        "sum = 0\n",
        "for i, gr  in enumerate(data):\n",
        "  for char in gr[0]:\n",
        "    if char in gr[1]:\n",
        "      if char in gr[2]:\n",
        "        sum = sum + map[char]\n",
        "        #print(f\"{char} ar ids {i}\")\n",
        "        break\n",
        "\n",
        "sum"
      ],
      "metadata": {
        "colab": {
          "base_uri": "https://localhost:8080/"
        },
        "id": "0pmQKrg0jq07",
        "outputId": "125c3670-19f3-4f6e-a649-a5824c78c622"
      },
      "execution_count": 87,
      "outputs": [
        {
          "output_type": "execute_result",
          "data": {
            "text/plain": [
              "2633"
            ]
          },
          "metadata": {},
          "execution_count": 87
        }
      ]
    },
    {
      "cell_type": "code",
      "source": [],
      "metadata": {
        "id": "tyxo3ulFAD4-"
      },
      "execution_count": null,
      "outputs": []
    }
  ]
}