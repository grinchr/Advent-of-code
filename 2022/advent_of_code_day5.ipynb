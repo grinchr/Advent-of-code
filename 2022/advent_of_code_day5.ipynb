{
  "nbformat": 4,
  "nbformat_minor": 0,
  "metadata": {
    "colab": {
      "provenance": [],
      "machine_shape": "hm",
      "mount_file_id": "1ic8gYZu7s0w7FWerfAcqHVnqKARm80RH",
      "authorship_tag": "ABX9TyPIU76WSdBoLUVFUslPxo5m",
      "include_colab_link": true
    },
    "kernelspec": {
      "name": "python3",
      "display_name": "Python 3"
    },
    "language_info": {
      "name": "python"
    },
    "gpuClass": "standard"
  },
  "cells": [
    {
      "cell_type": "markdown",
      "metadata": {
        "id": "view-in-github",
        "colab_type": "text"
      },
      "source": [
        "<a href=\"https://colab.research.google.com/github/grinchr/Advent-of-code/blob/main/advent_of_code%2C_day5.ipynb\" target=\"_parent\"><img src=\"https://colab.research.google.com/assets/colab-badge.svg\" alt=\"Open In Colab\"/></a>"
      ]
    },
    {
      "cell_type": "code",
      "source": [
        "data = open('/content/data_day5.txt', 'r').read().split('\\n')"
      ],
      "metadata": {
        "id": "jOZcyVo0fsKS"
      },
      "execution_count": 1,
      "outputs": []
    },
    {
      "cell_type": "code",
      "source": [
        "txt = \"\"\"    [C]             [L]         [T]\n",
        "    [V] [R] [M]     [T]         [B]\n",
        "    [F] [G] [H] [Q] [Q]         [H]\n",
        "    [W] [L] [P] [V] [M] [V]     [F]\n",
        "    [P] [C] [W] [S] [Z] [B] [S] [P]\n",
        "[G] [R] [M] [B] [F] [J] [S] [Z] [D]\n",
        "[J] [L] [P] [F] [C] [H] [F] [J] [C]\n",
        "[Z] [Q] [F] [L] [G] [W] [H] [F] [M]\"\"\"\n",
        "tmp = txt.split('\\n')\n",
        "\n",
        "tmp.reverse()\n",
        "que = [[] for i in range(9)]\n",
        "\n",
        "tmp\n",
        "for i in tmp:\n",
        "  que[8].append(i[32:35])\n",
        "  que[7].append(i[28:31])\n",
        "  que[6].append(i[24:27])\n",
        "  que[5].append(i[20:23])\n",
        "  que[4].append(i[16:19])\n",
        "  que[3].append(i[12:15])\n",
        "  que[2].append(i[8:11])\n",
        "  que[1].append(i[4:7])\n",
        "  que[0].append(i[:3])\n",
        "\n",
        "que[0]= que[0][:-5]\n",
        "\n",
        "que[2]= que[2][:-1]\n",
        "que[3]= que[3][:-1]\n",
        "que[4]= que[4][:-2]\n",
        "que[5]= que[5][:]\n",
        "que[6]= que[6][:-3]\n",
        "que[7]= que[7][:-4]\n",
        "\n",
        "for i, sublist in enumerate(que):\n",
        "  for j, elm in enumerate(sublist):\n",
        "    que[i][j] = elm.replace(\"[\",\"\").replace(\"]\",\"\")\n",
        "que"
      ],
      "metadata": {
        "colab": {
          "base_uri": "https://localhost:8080/"
        },
        "id": "jXdMkiaXwOka",
        "outputId": "f320a55e-40ef-496e-8bb4-3b5c199a16f3"
      },
      "execution_count": 25,
      "outputs": [
        {
          "output_type": "execute_result",
          "data": {
            "text/plain": [
              "[['Z', 'J', 'G'],\n",
              " ['Q', 'L', 'R', 'P', 'W', 'F', 'V', 'C'],\n",
              " ['F', 'P', 'M', 'C', 'L', 'G', 'R'],\n",
              " ['L', 'F', 'B', 'W', 'P', 'H', 'M'],\n",
              " ['G', 'C', 'F', 'S', 'V', 'Q'],\n",
              " ['W', 'H', 'J', 'Z', 'M', 'Q', 'T', 'L'],\n",
              " ['H', 'F', 'S', 'B', 'V'],\n",
              " ['F', 'J', 'Z', 'S'],\n",
              " ['M', 'C', 'D', 'P', 'F', 'H', 'B', 'T']]"
            ]
          },
          "metadata": {},
          "execution_count": 25
        }
      ]
    },
    {
      "cell_type": "code",
      "source": [
        "for row in data:\n",
        "  tmp = row.split()\n",
        "  n, fr, to= eval(tmp[1]), eval(tmp[3])-1, eval(tmp[5])-1\n",
        "  for i in range(n):\n",
        "   que[to].append(que[fr].pop(-1))\n",
        "out=\"\"\n",
        "for i in que:\n",
        "  out= out + i[-1]\n",
        "out"
      ],
      "metadata": {
        "colab": {
          "base_uri": "https://localhost:8080/",
          "height": 35
        },
        "id": "tcyuMW5Iox0v",
        "outputId": "ce63e79a-58c1-4855-d03e-1b140436ab72"
      },
      "execution_count": 26,
      "outputs": [
        {
          "output_type": "execute_result",
          "data": {
            "text/plain": [
              "'WSFTMRHPP'"
            ],
            "application/vnd.google.colaboratory.intrinsic+json": {
              "type": "string"
            }
          },
          "metadata": {},
          "execution_count": 26
        }
      ]
    },
    {
      "cell_type": "code",
      "source": [
        "#part2\n",
        "for row in data:\n",
        "  tmp = row.split()\n",
        "  n, fr, to= eval(tmp[1]), eval(tmp[3])-1, eval(tmp[5])-1\n",
        "  que[to] += que[fr][-n:]\n",
        "  que[fr] = que[fr][:-n]\n",
        "\n",
        "out=\"\"\n",
        "for i in que:\n",
        "  out= out + i[-1]\n",
        "out"
      ],
      "metadata": {
        "colab": {
          "base_uri": "https://localhost:8080/",
          "height": 35
        },
        "id": "yuPuO2dUeiPT",
        "outputId": "42f9ae20-8e8b-4a55-aa1f-d3147f3808f1"
      },
      "execution_count": 27,
      "outputs": [
        {
          "output_type": "execute_result",
          "data": {
            "text/plain": [
              "'FRSFFMWDC'"
            ],
            "application/vnd.google.colaboratory.intrinsic+json": {
              "type": "string"
            }
          },
          "metadata": {},
          "execution_count": 27
        }
      ]
    }
  ]
}