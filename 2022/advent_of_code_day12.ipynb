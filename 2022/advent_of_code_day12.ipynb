{
  "nbformat": 4,
  "nbformat_minor": 0,
  "metadata": {
    "colab": {
      "provenance": [],
      "machine_shape": "hm",
      "toc_visible": true,
      "name": "advent_of_code_day12.ipynb",
      "mount_file_id": "1ic8gYZu7s0w7FWerfAcqHVnqKARm80RH",
      "authorship_tag": "ABX9TyNoSwGAxRDMI+5DQn3e0tGP",
      "include_colab_link": true
    },
    "kernelspec": {
      "name": "python3",
      "display_name": "Python 3"
    },
    "language_info": {
      "name": "python"
    },
    "gpuClass": "standard"
  },
  "cells": [
    {
      "cell_type": "markdown",
      "metadata": {
        "id": "view-in-github",
        "colab_type": "text"
      },
      "source": [
        "<a href=\"https://colab.research.google.com/github/grinchr/Advent-of-code/blob/main/advent_of_code_day12.ipynb\" target=\"_parent\"><img src=\"https://colab.research.google.com/assets/colab-badge.svg\" alt=\"Open In Colab\"/></a>"
      ]
    },
    {
      "cell_type": "code",
      "source": [
        "data = open('/content/data_day12.txt', 'r').read().split(\"\\n\")\n",
        "\n",
        "data = [list(row)for row in data]\n"
      ],
      "metadata": {
        "id": "jOZcyVo0fsKS"
      },
      "execution_count": null,
      "outputs": []
    },
    {
      "cell_type": "code",
      "source": [
        "import string\n",
        "\n",
        "height = { a: b for a, b in zip(list(string.ascii_lowercase), range(30))}\n",
        "height[\"S\"] = height[\"a\"]\n",
        "height[\"E\"] = height[\"z\"]"
      ],
      "metadata": {
        "id": "DpBmSoGeDqxE"
      },
      "execution_count": null,
      "outputs": []
    },
    {
      "cell_type": "code",
      "source": [
        "\n",
        "start = [tuple((x,y)) for x,row in enumerate(data) for y,elm in enumerate(row) if elm in \"S\"][0]\n",
        "end = [tuple((x,y)) for x,row in enumerate(data) for y,elm in enumerate(row) if elm in \"E\"][0]\n",
        "data = [list(row)for row in data]\n",
        "nrows,ncols = len(data), len(data[0])\n"
      ],
      "metadata": {
        "colab": {
          "base_uri": "https://localhost:8080/"
        },
        "id": "2l_d9IzTFz0U",
        "outputId": "53ef91b2-9c27-4c42-ecbf-bab526dc5698"
      },
      "execution_count": null,
      "outputs": [
        {
          "output_type": "execute_result",
          "data": {
            "text/plain": [
              "(20, 0)"
            ]
          },
          "metadata": {},
          "execution_count": 166
        }
      ]
    },
    {
      "cell_type": "code",
      "source": [
        "from collections import deque\n",
        "def bfs(start, end):\n",
        "  queue = deque([(start, 0)])\n",
        "  visited = set()\n",
        "  while queue:\n",
        "    current, steps = queue.popleft()\n",
        "    cx, cy = current\n",
        "    if current == end:\n",
        "      return steps\n",
        "\n",
        "    for i in range(-1,2,2):\n",
        "      for j in range(2):\n",
        "        out = [0,0];\n",
        "        out[j] = i\n",
        "        dx, dy = cx + out[0], cy + out[1]\n",
        "        if dx in range(nrows) and dy in range(ncols):\n",
        "          if height[data[cx][cy]] >= height[data[dx][dy]]-1 and ((dx,dy) not in visited):\n",
        "            visited.add((dx,dy))\n",
        "            steps + 1\n",
        "            queue.append(((dx,dy),steps+1))\n",
        "print(start,end)\n",
        "print(bfs(start,end))"
      ],
      "metadata": {
        "colab": {
          "base_uri": "https://localhost:8080/"
        },
        "id": "TDwxYG6jLW08",
        "outputId": "fdaa38b9-7356-4ba9-f198-1ad39c91b9c4"
      },
      "execution_count": null,
      "outputs": [
        {
          "output_type": "stream",
          "name": "stdout",
          "text": [
            "(20, 0) (20, 148)\n",
            "490\n"
          ]
        }
      ]
    },
    {
      "cell_type": "code",
      "source": [],
      "metadata": {
        "id": "HhZdTLOhZ7J2"
      },
      "execution_count": null,
      "outputs": []
    },
    {
      "cell_type": "markdown",
      "source": [],
      "metadata": {
        "id": "zZG2UNwiXmDf"
      }
    },
    {
      "cell_type": "markdown",
      "source": [],
      "metadata": {
        "id": "bkdaybi5XmLQ"
      }
    },
    {
      "cell_type": "code",
      "source": [
        "starts = [tuple((x,y)) for x,row in enumerate(data) for y,elm in enumerate(row) if elm in \"Sa\"]\n",
        "dist =  [bfs(s,end) for s in starts ]\n",
        "min([i for i in dist if i is not None])"
      ],
      "metadata": {
        "colab": {
          "base_uri": "https://localhost:8080/"
        },
        "id": "rkb2X-BkHkvk",
        "outputId": "1eb7ea67-7eb9-45b9-d05f-0bd6478ba38f"
      },
      "execution_count": null,
      "outputs": [
        {
          "output_type": "execute_result",
          "data": {
            "text/plain": [
              "488"
            ]
          },
          "metadata": {},
          "execution_count": 188
        }
      ]
    },
    {
      "cell_type": "code",
      "source": [],
      "metadata": {
        "id": "IQUvk_y3LWCD"
      },
      "execution_count": null,
      "outputs": []
    }
  ]
}