{
  "nbformat": 4,
  "nbformat_minor": 0,
  "metadata": {
    "colab": {
      "provenance": [],
      "machine_shape": "hm",
      "mount_file_id": "1ic8gYZu7s0w7FWerfAcqHVnqKARm80RH",
      "authorship_tag": "ABX9TyPgXgARG9bRJSc+/UVfL2XL",
      "include_colab_link": true
    },
    "kernelspec": {
      "name": "python3",
      "display_name": "Python 3"
    },
    "language_info": {
      "name": "python"
    },
    "gpuClass": "standard"
  },
  "cells": [
    {
      "cell_type": "markdown",
      "metadata": {
        "id": "view-in-github",
        "colab_type": "text"
      },
      "source": [
        "<a href=\"https://colab.research.google.com/github/grinchr/Advent-of-code/blob/main/advent_of_code%2C_day6.ipynb\" target=\"_parent\"><img src=\"https://colab.research.google.com/assets/colab-badge.svg\" alt=\"Open In Colab\"/></a>"
      ]
    },
    {
      "cell_type": "code",
      "source": [
        "data = open('/content/data_day6.txt', 'r').read()#.split('\\n')"
      ],
      "metadata": {
        "id": "jOZcyVo0fsKS"
      },
      "execution_count": 4,
      "outputs": []
    },
    {
      "cell_type": "code",
      "source": [
        "for i, elm in enumerate(data):\n",
        "  if 3<i:\n",
        "    window = set(data[i-4:i])\n",
        "    if len(window)==4:\n",
        "      idx = i\n",
        "      break\n",
        "idx"
      ],
      "metadata": {
        "colab": {
          "base_uri": "https://localhost:8080/"
        },
        "id": "hjR7bFoLemAJ",
        "outputId": "1fa65b8b-726c-4744-a4a0-8e797e010f9e"
      },
      "execution_count": 38,
      "outputs": [
        {
          "output_type": "execute_result",
          "data": {
            "text/plain": [
              "1779"
            ]
          },
          "metadata": {},
          "execution_count": 38
        }
      ]
    },
    {
      "cell_type": "code",
      "source": [
        "for i, elm in enumerate(data):\n",
        "  if 14<i:\n",
        "    window = set(data[i-14:i])\n",
        "    if len(window)==14:\n",
        "      idx = i\n",
        "      break\n",
        "idx"
      ],
      "metadata": {
        "colab": {
          "base_uri": "https://localhost:8080/"
        },
        "id": "tcyuMW5Iox0v",
        "outputId": "3fc2b16f-6b48-4f29-ad73-2b2e31a1a3d6"
      },
      "execution_count": 37,
      "outputs": [
        {
          "output_type": "execute_result",
          "data": {
            "text/plain": [
              "2635"
            ]
          },
          "metadata": {},
          "execution_count": 37
        }
      ]
    },
    {
      "cell_type": "code",
      "source": [],
      "metadata": {
        "colab": {
          "base_uri": "https://localhost:8080/",
          "height": 35
        },
        "id": "yuPuO2dUeiPT",
        "outputId": "42f9ae20-8e8b-4a55-aa1f-d3147f3808f1"
      },
      "execution_count": null,
      "outputs": [
        {
          "output_type": "execute_result",
          "data": {
            "text/plain": [
              "'FRSFFMWDC'"
            ],
            "application/vnd.google.colaboratory.intrinsic+json": {
              "type": "string"
            }
          },
          "metadata": {},
          "execution_count": 27
        }
      ]
    }
  ]
}