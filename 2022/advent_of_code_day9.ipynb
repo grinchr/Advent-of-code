{
  "nbformat": 4,
  "nbformat_minor": 0,
  "metadata": {
    "colab": {
      "provenance": [],
      "machine_shape": "hm",
      "mount_file_id": "1ic8gYZu7s0w7FWerfAcqHVnqKARm80RH",
      "authorship_tag": "ABX9TyNggRYIghBblCFe0muX+FzT",
      "include_colab_link": true
    },
    "kernelspec": {
      "name": "python3",
      "display_name": "Python 3"
    },
    "language_info": {
      "name": "python"
    },
    "gpuClass": "standard"
  },
  "cells": [
    {
      "cell_type": "markdown",
      "metadata": {
        "id": "view-in-github",
        "colab_type": "text"
      },
      "source": [
        "<a href=\"https://colab.research.google.com/github/grinchr/Advent-of-code/blob/main/advent_of_code_day9.ipynb\" target=\"_parent\"><img src=\"https://colab.research.google.com/assets/colab-badge.svg\" alt=\"Open In Colab\"/></a>"
      ]
    },
    {
      "cell_type": "code",
      "source": [
        "data = open('/content/data_day9.txt', 'r').read().split('\\n')"
      ],
      "metadata": {
        "id": "jOZcyVo0fsKS"
      },
      "execution_count": 3,
      "outputs": []
    },
    {
      "cell_type": "code",
      "source": [
        "data_test = \"\"\"R 4\n",
        "U 4\n",
        "L 3\n",
        "D 1\n",
        "R 4\n",
        "D 1\n",
        "L 5\n",
        "R 2\"\"\".split(\"\\n\")"
      ],
      "metadata": {
        "id": "QdrG7NvDCqY1"
      },
      "execution_count": 167,
      "outputs": []
    },
    {
      "cell_type": "code",
      "source": [
        "import numpy as np\n",
        "def move_knot(a, b):\n",
        "    delta = a - b\n",
        "    if np.any(np.abs(delta)>1):\n",
        "        b += np.sign(delta)\n",
        "\n",
        "\n",
        "mv_map = {'R': [0, 1],\n",
        "          'L': [0, -1],\n",
        "          'U': [-1, 0], \n",
        "          'D': [1, 0]}\n",
        "\n",
        "def move(rope, direction):\n",
        "    rope[0] += mv_map[direction]\n",
        "    for i in range(1, len(rope)): \n",
        "        move_knot(rope[i-1], rope[i])\n",
        "\n",
        "    return tuple(rope[-1]) \n",
        "\n"
      ],
      "metadata": {
        "id": "bl4jdUCc8yPn"
      },
      "execution_count": 174,
      "outputs": []
    },
    {
      "cell_type": "code",
      "source": [
        "moves = []\n",
        "for row in data:\n",
        "  dir, steps = row.split()\n",
        "  moves += [dir]*int(steps)\n",
        "\n",
        "rope = np.array([[0,0],[0,0]])\n",
        "\n",
        "path = set()\n",
        "for mv in moves:\n",
        "  path.add(move(rope, mv))\n",
        "\n",
        "\n",
        "print(len(path))\n",
        "\n",
        "rope = np.zeros(((10, 2)))\n",
        "path = set()\n",
        "for mv in moves:\n",
        "  path.add(move(rope, mv))\n",
        "\n",
        "print(len(path))\n"
      ],
      "metadata": {
        "colab": {
          "base_uri": "https://localhost:8080/"
        },
        "id": "FSeGpsKb6MBs",
        "outputId": "b55e0c28-fa17-4123-ac86-4db07bf412a1"
      },
      "execution_count": 175,
      "outputs": [
        {
          "output_type": "stream",
          "name": "stdout",
          "text": [
            "5513\n",
            "2427\n"
          ]
        }
      ]
    },
    {
      "cell_type": "code",
      "source": [],
      "metadata": {
        "id": "wwTdXw0DEo3s"
      },
      "execution_count": null,
      "outputs": []
    }
  ]
}