{
  "nbformat": 4,
  "nbformat_minor": 0,
  "metadata": {
    "colab": {
      "provenance": [],
      "machine_shape": "hm",
      "mount_file_id": "1ic8gYZu7s0w7FWerfAcqHVnqKARm80RH",
      "authorship_tag": "ABX9TyOabHRnb6OAcRwUSN/Y/iD/",
      "include_colab_link": true
    },
    "kernelspec": {
      "name": "python3",
      "display_name": "Python 3"
    },
    "language_info": {
      "name": "python"
    },
    "gpuClass": "standard"
  },
  "cells": [
    {
      "cell_type": "markdown",
      "metadata": {
        "id": "view-in-github",
        "colab_type": "text"
      },
      "source": [
        "<a href=\"https://colab.research.google.com/github/grinchr/Advent-of-code/blob/main/Copy_of_advent_of_code%2C_day7.ipynb\" target=\"_parent\"><img src=\"https://colab.research.google.com/assets/colab-badge.svg\" alt=\"Open In Colab\"/></a>"
      ]
    },
    {
      "cell_type": "code",
      "source": [
        "data = open('/content/data_day7.txt', 'r').read().split('\\n')"
      ],
      "metadata": {
        "id": "jOZcyVo0fsKS"
      },
      "execution_count": 2,
      "outputs": []
    },
    {
      "cell_type": "code",
      "source": [
        "data =\"\"\"$ cd /\n",
        "$ ls\n",
        "dir a\n",
        "14848514 b.txt\n",
        "8504156 c.dat\n",
        "dir d\n",
        "$ cd a\n",
        "$ ls\n",
        "dir e\n",
        "29116 f\n",
        "2557 g\n",
        "62596 h.lst\n",
        "$ cd e\n",
        "$ ls\n",
        "584 i\n",
        "$ cd ..\n",
        "$ cd ..\n",
        "$ cd d\n",
        "$ ls\n",
        "4060174 j\n",
        "8033020 d.log\n",
        "5626152 d.ext\n",
        "7214296 k\"\"\".split('\\n')\n",
        "\n"
      ],
      "metadata": {
        "id": "HaRXz5XCyB66"
      },
      "execution_count": null,
      "outputs": []
    },
    {
      "cell_type": "code",
      "source": [
        "pwd = [\"/\"]\n",
        "mem_map = {\"/\": 0}\n",
        "\n",
        "for i, elm in enumerate(data[1:]):\n",
        "    if \"$ cd\" in elm:\n",
        "      if \"..\" not in elm:\n",
        "        p_dir = pwd[-1] + \"/\"+ elm[5:]\n",
        "        pwd.append(p_dir)\n",
        "        mem_map[p_dir] = 0\n",
        "      else:\n",
        "        dir = pwd.pop()\n",
        "        mem_map[pwd[-1]] = mem_map[pwd[-1]] + mem_map[dir]\n",
        "\n",
        "    if \"dir \" not in elm[:4] and \"$\" not in elm[:3] :\n",
        "\n",
        "      mem = eval(elm.split()[0])\n",
        "      mem_map[pwd[-1]] = mem_map[pwd[-1]] + mem\n",
        "\n",
        "\n",
        "dir = pwd.pop()\n",
        "mem_map[pwd[-1]] = mem_map[pwd[-1]] + mem_map[dir]\n",
        "\n",
        "print(f\"Part 1: {sum(mem for mem in mem_map.values() if mem <= 100000)}\")\n",
        "print(f\"Part 2: {min(mem for mem in mem_map.values() if mem >= 30000000 - (70000000 - mem_map['/']))}\")"
      ],
      "metadata": {
        "id": "dDC7ev7apK4T",
        "colab": {
          "base_uri": "https://localhost:8080/"
        },
        "outputId": "8d16c9f2-100a-401d-efa7-787ceb2e54dd"
      },
      "execution_count": 19,
      "outputs": [
        {
          "output_type": "stream",
          "name": "stdout",
          "text": [
            "Part 1: 1232307\n",
            "Part 2: 7268994\n"
          ]
        }
      ]
    },
    {
      "cell_type": "code",
      "source": [],
      "metadata": {
        "id": "ySycHNLgBW9X"
      },
      "execution_count": null,
      "outputs": []
    }
  ]
}
