{
 "cells": [
  {
   "cell_type": "code",
   "execution_count": 2,
   "metadata": {},
   "outputs": [],
   "source": [
    "file_path = 'input/day6.txt'\n",
    "with open(file_path, 'r') as file:\n",
    "    real_data = file.read()#.split(\"\\n\")\n"
   ]
  },
  {
   "cell_type": "code",
   "execution_count": 3,
   "metadata": {},
   "outputs": [],
   "source": [
    "test_data = \"\"\"....#.....\n",
    ".........#\n",
    "..........\n",
    "..#.......\n",
    ".......#..\n",
    "..........\n",
    ".#..^.....\n",
    "........#.\n",
    "#.........\n",
    "......#...\"\"\"\n",
    "\n",
    "data=test_data\n",
    "\n",
    "\n",
    "\n"
   ]
  },
  {
   "cell_type": "code",
   "execution_count": 4,
   "metadata": {},
   "outputs": [],
   "source": [
    "\n",
    "\n",
    "def map_up(index, n):\n",
    "    row = index // n\n",
    "    col = index % n\n",
    "    return int(row), int(col)\n",
    "\n",
    "def map_down(x, y, n):\n",
    "    return int(x * n + y)\n",
    "\n",
    "\n",
    "\n",
    "def move(x,y, facing, data):\n",
    "    try:\n",
    "        if facing==\"<\":\n",
    "            if data[map_down(x,y-1,n)]==\"#\":\n",
    "                return x, y, \"^\"\n",
    "            else:\n",
    "                return x, y-1, facing\n",
    "            \n",
    "        if facing==\"^\":\n",
    "            if data[map_down(x-1,y,n)]==\"#\":\n",
    "                return x, y, \">\"\n",
    "            else:\n",
    "                return x-1, y, facing\n",
    "        \n",
    "        if facing==\">\":\n",
    "            if data[map_down(x,y+1,n)]==\"#\":\n",
    "                return x, y, \"v\"\n",
    "            else:\n",
    "                return x, y+1, facing\n",
    "            \n",
    "        if facing==\"v\":\n",
    "            if data[map_down(x+1,y,n)]==\"#\":\n",
    "                return x, y, \"<\"\n",
    "            else:\n",
    "                return x+1, y, facing\n",
    "    except:\n",
    "        return -1,-1, \"x\"\n",
    "            "
   ]
  },
  {
   "cell_type": "code",
   "execution_count": 41,
   "metadata": {},
   "outputs": [
    {
     "name": "stdout",
     "output_type": "stream",
     "text": [
      "starting pos: (54, 56, '^')\n",
      "break: (73, -1, '<')\n"
     ]
    },
    {
     "data": {
      "text/plain": [
       "5551"
      ]
     },
     "execution_count": 41,
     "metadata": {},
     "output_type": "execute_result"
    }
   ],
   "source": [
    "from math import sqrt\n",
    "\n",
    "data=real_data\n",
    "data=data.replace(\"\\n\",\"\")\n",
    "n = sqrt(len(data))\n",
    "\n",
    "\n",
    "for char in \"<^>v\":\n",
    "    pos = data.find(char)\n",
    "    if pos != -1:\n",
    "        x, y = map_up(pos, n)\n",
    "        facing = char\n",
    "print(f\"starting pos: {x,y, facing}\")\n",
    "\n",
    "been = set()\n",
    "out_of_map = False\n",
    "count = 0\n",
    "\n",
    "while not out_of_map:\n",
    "    been.add((x,y))\n",
    "    x,y, facing = move(x,y, facing, data)\n",
    "    if x<0 or n<=x or y<0 or n<=y:\n",
    "        print(f\"break: {x,y, facing}\")\n",
    "        out_of_map=True\n",
    "\n",
    "\n",
    "len(been)"
   ]
  },
  {
   "cell_type": "code",
   "execution_count": 48,
   "metadata": {},
   "outputs": [
    {
     "data": {
      "text/plain": [
       "1942"
      ]
     },
     "execution_count": 48,
     "metadata": {},
     "output_type": "execute_result"
    }
   ],
   "source": [
    "from tqdm import tqdm\n",
    "\n",
    "data=real_data\n",
    "data=data.replace(\"\\n\",\"\")\n",
    "n = sqrt(len(data))\n",
    "been2 = dict()\n",
    "obs = 0\n",
    "max_turn = 0\n",
    "for char in \"<^>v\":\n",
    "    pos = data.find(char)\n",
    "    if pos != -1:\n",
    "        x, y = map_up(pos, n)\n",
    "        facing = char\n",
    "x0,y0,facing0 = x,y, facing\n",
    "\n",
    "for p in been:\n",
    "\n",
    "    i = map_down(*p, n)\n",
    "    if i == pos or i == pos-n:  \n",
    "        continue\n",
    "\n",
    "    out_of_map = False\n",
    "    x,y, facing =x0,y0,facing0   \n",
    "    new_data= data[:i] +\"#\"+ data[i+1:]\n",
    "    been2 = dict()\n",
    "    while not out_of_map:\n",
    "        x,y, facing = move(x,y, facing, new_data)\n",
    "        current_pos = f\"{x,y, facing}\"\n",
    "        if current_pos not in been2.keys():\n",
    "            been2[current_pos] = 0\n",
    "        else:\n",
    "            been2[current_pos] +=1 \n",
    "\n",
    "        if x<0 or n<=x or y<0 or n<=y:\n",
    "            out_of_map=True\n",
    "\n",
    "        if been2[current_pos]>4:\n",
    "            obs+=1\n",
    "            out_of_map=True\n",
    "\n",
    "\n",
    "\n",
    "obs"
   ]
  },
  {
   "cell_type": "code",
   "execution_count": 49,
   "metadata": {},
   "outputs": [
    {
     "ename": "NameError",
     "evalue": "name 'g' is not defined",
     "output_type": "error",
     "traceback": [
      "\u001b[0;31m---------------------------------------------------------------------------\u001b[0m",
      "\u001b[0;31mNameError\u001b[0m                                 Traceback (most recent call last)",
      "Input \u001b[0;32mIn [49]\u001b[0m, in \u001b[0;36m<cell line: 1>\u001b[0;34m()\u001b[0m\n\u001b[0;32m----> 1\u001b[0m \u001b[43mg\u001b[49m\u001b[38;5;241m.\u001b[39mkeys()\n",
      "\u001b[0;31mNameError\u001b[0m: name 'g' is not defined"
     ]
    }
   ],
   "source": [
    "g.keys()"
   ]
  },
  {
   "cell_type": "code",
   "execution_count": null,
   "metadata": {},
   "outputs": [],
   "source": []
  }
 ],
 "metadata": {
  "kernelspec": {
   "display_name": "base",
   "language": "python",
   "name": "python3"
  },
  "language_info": {
   "codemirror_mode": {
    "name": "ipython",
    "version": 3
   },
   "file_extension": ".py",
   "mimetype": "text/x-python",
   "name": "python",
   "nbconvert_exporter": "python",
   "pygments_lexer": "ipython3",
   "version": "3.9.13"
  }
 },
 "nbformat": 4,
 "nbformat_minor": 2
}
