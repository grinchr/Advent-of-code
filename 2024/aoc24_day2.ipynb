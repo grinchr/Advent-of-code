{
 "cells": [
  {
   "cell_type": "code",
   "execution_count": 6,
   "metadata": {},
   "outputs": [],
   "source": [
    "\n",
    "file_path = 'input/day2.txt'\n",
    "with open(file_path, 'r') as file:\n",
    "    real_data = file.read().split(\"\\n\")\n",
    "\n"
   ]
  },
  {
   "cell_type": "code",
   "execution_count": 7,
   "metadata": {},
   "outputs": [],
   "source": [
    "def check_conditions(numbers):\n",
    "    numbers = list(map(int, numbers))\n",
    "    all_increasing = all(numbers[i] < numbers[i + 1] for i in range(len(numbers) - 1))\n",
    "    all_decreasing = all(numbers[i] > numbers[i + 1] for i in range(len(numbers) - 1))\n",
    "    valid_differences = all(1 <= abs(numbers[i + 1] - numbers[i]) <= 3 for i in range(len(numbers) - 1))\n",
    "    return (all_increasing or all_decreasing) and valid_differences\n",
    "\n",
    "report_list = [line.split(\" \") for line in real_data]\n"
   ]
  },
  {
   "cell_type": "code",
   "execution_count": 8,
   "metadata": {},
   "outputs": [
    {
     "data": {
      "text/plain": [
       "483"
      ]
     },
     "execution_count": 8,
     "metadata": {},
     "output_type": "execute_result"
    }
   ],
   "source": [
    "safe = 0\n",
    "for l in report_list:\n",
    "    safe += check_conditions(l)\n",
    "safe"
   ]
  },
  {
   "cell_type": "code",
   "execution_count": 9,
   "metadata": {},
   "outputs": [
    {
     "data": {
      "text/plain": [
       "528"
      ]
     },
     "execution_count": 9,
     "metadata": {},
     "output_type": "execute_result"
    }
   ],
   "source": [
    "safe = 0\n",
    "for rep in report_list:\n",
    "    if check_conditions(rep):\n",
    "        safe += 1\n",
    "    else:\n",
    "        for i in range(len(rep)):\n",
    "            modified_rep = rep[:i] + rep[i+1:]\n",
    "            if check_conditions(modified_rep):\n",
    "                safe += 1\n",
    "                break\n",
    "safe"
   ]
  },
  {
   "cell_type": "code",
   "execution_count": null,
   "metadata": {},
   "outputs": [],
   "source": []
  }
 ],
 "metadata": {
  "kernelspec": {
   "display_name": "base",
   "language": "python",
   "name": "python3"
  },
  "language_info": {
   "codemirror_mode": {
    "name": "ipython",
    "version": 3
   },
   "file_extension": ".py",
   "mimetype": "text/x-python",
   "name": "python",
   "nbconvert_exporter": "python",
   "pygments_lexer": "ipython3",
   "version": "3.9.13"
  }
 },
 "nbformat": 4,
 "nbformat_minor": 2
}
