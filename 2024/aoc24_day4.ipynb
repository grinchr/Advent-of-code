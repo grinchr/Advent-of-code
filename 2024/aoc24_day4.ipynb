{
 "cells": [
  {
   "cell_type": "code",
   "execution_count": 86,
   "metadata": {},
   "outputs": [],
   "source": [
    "file_path = \"input/day4.txt\"\n",
    "with open(file_path, 'r') as file:\n",
    "    real_data = file.read().replace(\"\\n\",\"\")\n",
    "#print(real_data)\n"
   ]
  },
  {
   "cell_type": "code",
   "execution_count": 88,
   "metadata": {},
   "outputs": [],
   "source": [
    "def x(i, j, ncols=140): # 3,1 -> 3*10+1 = 31\n",
    "    return i * ncols + j\n",
    "\n",
    "def check_ij(mat, i, j, nrows=140, ncols=140):\n",
    "    local_count = 0\n",
    "\n",
    "    nrows = 140\n",
    "    ncols = 140\n",
    "    #vertical\n",
    "    if j + 3 < ncols and mat[x(i, j)] + mat[x(i, j + 1)] + mat[x(i, j + 2)] + mat[x(i, j + 3)] == \"XMAS\":\n",
    "        local_count += 1\n",
    "    if j - 3 >= 0 and mat[x(i, j)] + mat[x(i, j - 1)] + mat[x(i, j - 2)] + mat[x(i, j - 3)] == \"XMAS\":\n",
    "        local_count += 1\n",
    "    if i + 3 < nrows and mat[x(i, j)] + mat[x(i + 1, j)] + mat[x(i + 2, j)] + mat[x(i + 3, j)] == \"XMAS\":\n",
    "        local_count += 1\n",
    "    if i - 3 >= 0 and mat[x(i, j)] + mat[x(i - 1, j)] + mat[x(i - 2, j)] + mat[x(i - 3, j)] == \"XMAS\":\n",
    "        local_count += 1\n",
    "    if i + 3 < nrows and j + 3 < ncols and mat[x(i, j)] + mat[x(i + 1, j + 1)] + mat[x(i + 2, j + 2)] + mat[x(i + 3, j + 3)] == \"XMAS\":\n",
    "        local_count += 1\n",
    "    if i - 3 >= 0 and j - 3 >= 0 and mat[x(i, j)] + mat[x(i - 1, j - 1)] + mat[x(i - 2, j - 2)] + mat[x(i - 3, j - 3)] == \"XMAS\":\n",
    "        local_count += 1\n",
    "    if i + 3 < nrows and j - 3 >= 0 and mat[x(i, j)] + mat[x(i + 1, j - 1)] + mat[x(i + 2, j - 2)] + mat[x(i + 3, j - 3)] == \"XMAS\":\n",
    "        local_count += 1\n",
    "    if i - 3 >= 0 and j + 3 < ncols and mat[x(i, j)] + mat[x(i - 1, j + 1)] + mat[x(i - 2, j + 2)]+ mat[x(i - 3, j + 3)]== \"XMAS\":\n",
    "        local_count += 1\n",
    "    return local_count"
   ]
  },
  {
   "cell_type": "code",
   "execution_count": null,
   "metadata": {},
   "outputs": [
    {
     "data": {
      "text/plain": [
       "2599"
      ]
     },
     "execution_count": 90,
     "metadata": {},
     "output_type": "execute_result"
    }
   ],
   "source": [
    "\n",
    "from math import sqrt\n",
    "\n",
    "xmas_count = 0\n",
    "data=real_data\n",
    "\n",
    "n = int(sqrt(len(data)))\n",
    "for i in range(n):\n",
    "    for j in range(n):\n",
    "        xmas_count+=check_ij(data, i,j)\n",
    "\n",
    "xmas_count"
   ]
  },
  {
   "cell_type": "code",
   "execution_count": 91,
   "metadata": {},
   "outputs": [],
   "source": [
    "def x(i, j, ncols=140): # 3,1 -> 3*10+1 = 31\n",
    "    return i * ncols + j\n",
    "\n",
    "def check_ij_part2(mat, i, j, n=140):\n",
    "    local_count = 0\n",
    "\n",
    "    if mat[x(i, j,n)] != \"A\":\n",
    "        return 0\n",
    "    \n",
    "    \n",
    "    if 0<=i-1 and i+1<n and 0<=j-1 and j+1<n:\n",
    "        word1 = mat[x(i-1, j-1,n)] + \"A\" + mat[x(i+1, j+1,n)]\n",
    "        word2 = mat[x(i+1, j-1,n)] + \"A\" + mat[x(i-1, j+1,n)]\n",
    "\n",
    "        line1 = word1==\"MAS\" or word1[::-1] == \"MAS\"\n",
    "        line2 = word2==\"MAS\" or word2[::-1] == \"MAS\"\n",
    "\n",
    "        return line1*line2\n",
    "    return 0\n",
    "\n"
   ]
  },
  {
   "cell_type": "code",
   "execution_count": 93,
   "metadata": {},
   "outputs": [
    {
     "data": {
      "text/plain": [
       "1948"
      ]
     },
     "execution_count": 93,
     "metadata": {},
     "output_type": "execute_result"
    }
   ],
   "source": [
    "\n",
    "data=real_data\n",
    "cross_count = 0\n",
    "\n",
    "n = int(sqrt(len(data)))\n",
    "from math import sqrt\n",
    "for i in range(n):\n",
    "    for j in range(n):\n",
    "        cross_count+=check_ij_part2(data, i, j, n)\n",
    "        \n",
    "cross_count"
   ]
  }
 ],
 "metadata": {
  "kernelspec": {
   "display_name": "base",
   "language": "python",
   "name": "python3"
  },
  "language_info": {
   "codemirror_mode": {
    "name": "ipython",
    "version": 3
   },
   "file_extension": ".py",
   "mimetype": "text/x-python",
   "name": "python",
   "nbconvert_exporter": "python",
   "pygments_lexer": "ipython3",
   "version": "3.9.13"
  }
 },
 "nbformat": 4,
 "nbformat_minor": 2
}
