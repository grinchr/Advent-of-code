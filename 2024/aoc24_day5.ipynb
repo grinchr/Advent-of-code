{
 "cells": [
  {
   "cell_type": "code",
   "execution_count": 170,
   "metadata": {},
   "outputs": [],
   "source": [
    "\n",
    "file_path = 'input/day5.txt'\n",
    "with open(file_path, 'r') as file:\n",
    "    real_data = file.read().split(\"\\n\\n\")\n"
   ]
  },
  {
   "cell_type": "code",
   "execution_count": 171,
   "metadata": {},
   "outputs": [],
   "source": [
    "test_data=\"\"\"47|53\n",
    "97|13\n",
    "97|61\n",
    "97|47\n",
    "75|29\n",
    "61|13\n",
    "75|53\n",
    "29|13\n",
    "97|29\n",
    "53|29\n",
    "61|53\n",
    "97|53\n",
    "61|29\n",
    "47|13\n",
    "75|47\n",
    "97|75\n",
    "47|61\n",
    "75|61\n",
    "47|29\n",
    "75|13\n",
    "53|13\n",
    "\n",
    "75,47,61,53,29\n",
    "97,61,53,29,13\n",
    "75,29,13\n",
    "75,97,47,61,53\n",
    "61,13,29\n",
    "97,13,75,29,47\"\"\".split(\"\\n\\n\")"
   ]
  },
  {
   "cell_type": "code",
   "execution_count": 172,
   "metadata": {},
   "outputs": [],
   "source": [
    "data = real_data\n",
    "rules, updates = data[0].split(\"\\n\"), data[1].split(\"\\n\")"
   ]
  },
  {
   "cell_type": "code",
   "execution_count": 173,
   "metadata": {},
   "outputs": [],
   "source": [
    "dep_dic = {}\n",
    "for r in rules:\n",
    "    a, b = r.split(\"|\")\n",
    "    dep_dic[a] = set()  \n",
    "    dep_dic[b] = set()  \n",
    "for r in rules:\n",
    "    depends_on, node = r.split(\"|\")\n",
    "    dep_dic[node].add(depends_on)"
   ]
  },
  {
   "cell_type": "code",
   "execution_count": 174,
   "metadata": {},
   "outputs": [],
   "source": [
    "def check_report(report, dep):\n",
    "    for i, ups in enumerate(report):\n",
    "        depends_on = dep[ups]\n",
    "        later_ups = set(report[i:])\n",
    "        if len(depends_on.intersection(later_ups)) > 0:\n",
    "            return False\n",
    "        \n",
    "    return True\n",
    "\n",
    "def fix_report(report, dep):\n",
    "    for i, ups in enumerate(report):\n",
    "        depends_on = dep[ups]\n",
    "        later_ups = set(report[i:])\n",
    "        overlap = depends_on.intersection(later_ups)\n",
    "        if overlap:\n",
    "            new_num = next(iter(overlap)) \n",
    "            new_num_index = report.index(new_num) \n",
    "            report[i], report[new_num_index] = report[new_num_index], report[i]\n",
    "            return report\n"
   ]
  },
  {
   "cell_type": "code",
   "execution_count": 175,
   "metadata": {},
   "outputs": [
    {
     "name": "stdout",
     "output_type": "stream",
     "text": [
      "part1: 5588\n",
      "part2: 5331\n"
     ]
    }
   ],
   "source": [
    "ans = 0\n",
    "ans2 = 0\n",
    "for ups in updates:\n",
    "    ups = ups.split(\",\")\n",
    "    if check_report(ups, dep_dic):\n",
    "        ans += int(ups[int(len(ups)/2)])\n",
    "    else:\n",
    "        while not check_report(ups, dep_dic):\n",
    "            ups = fix_report(ups, dep_dic)\n",
    "\n",
    "        ans2 += int(ups[int(len(ups)/2)])\n",
    "\n",
    "print(f\"part1: {ans}\")\n",
    "print(f\"part2: {ans2}\")"
   ]
  }
 ],
 "metadata": {
  "kernelspec": {
   "display_name": "base",
   "language": "python",
   "name": "python3"
  },
  "language_info": {
   "codemirror_mode": {
    "name": "ipython",
    "version": 3
   },
   "file_extension": ".py",
   "mimetype": "text/x-python",
   "name": "python",
   "nbconvert_exporter": "python",
   "pygments_lexer": "ipython3",
   "version": "3.9.13"
  }
 },
 "nbformat": 4,
 "nbformat_minor": 2
}
