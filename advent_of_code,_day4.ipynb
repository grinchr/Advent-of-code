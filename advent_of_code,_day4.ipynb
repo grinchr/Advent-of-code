{
  "nbformat": 4,
  "nbformat_minor": 0,
  "metadata": {
    "colab": {
      "provenance": [],
      "mount_file_id": "1ic8gYZu7s0w7FWerfAcqHVnqKARm80RH",
      "authorship_tag": "ABX9TyNbtLfkdMuN51Is+PBpTgrM",
      "include_colab_link": true
    },
    "kernelspec": {
      "name": "python3",
      "display_name": "Python 3"
    },
    "language_info": {
      "name": "python"
    }
  },
  "cells": [
    {
      "cell_type": "markdown",
      "metadata": {
        "id": "view-in-github",
        "colab_type": "text"
      },
      "source": [
        "<a href=\"https://colab.research.google.com/github/grinchr/Advent-of-code/blob/main/advent_of_code%2C_day4.ipynb\" target=\"_parent\"><img src=\"https://colab.research.google.com/assets/colab-badge.svg\" alt=\"Open In Colab\"/></a>"
      ]
    },
    {
      "cell_type": "code",
      "source": [
        "data = open('/content/data_day4.txt', 'r').read().split('\\n')"
      ],
      "metadata": {
        "id": "jOZcyVo0fsKS"
      },
      "execution_count": 2,
      "outputs": []
    },
    {
      "cell_type": "code",
      "source": [
        "sum = 0\n",
        "for pair in data:\n",
        "  a,b,c,d = eval(pair.replace(\"-\",\",\"))\n",
        "  if a<=c and b>=d:\n",
        "    sum =sum + 1\n",
        "  elif c<=a and d>=b:\n",
        "    sum += 1\n",
        "  \n",
        "sum"
      ],
      "metadata": {
        "colab": {
          "base_uri": "https://localhost:8080/"
        },
        "id": "yuPuO2dUeiPT",
        "outputId": "4334eb21-b26b-4144-9fe8-eea1f4a51900"
      },
      "execution_count": 21,
      "outputs": [
        {
          "output_type": "execute_result",
          "data": {
            "text/plain": [
              "518"
            ]
          },
          "metadata": {},
          "execution_count": 21
        }
      ]
    },
    {
      "cell_type": "code",
      "source": [
        "sum = 0\n",
        "for pair in data:\n",
        "  a,b,c,d = eval(pair.replace(\"-\",\",\"))\n",
        "  for i in range(a,b+1):\n",
        "    if i in range(c,d+1):\n",
        "      sum += 1\n",
        "      break\n",
        "sum"
      ],
      "metadata": {
        "colab": {
          "base_uri": "https://localhost:8080/"
        },
        "id": "OWR52ILLxMQL",
        "outputId": "e86dd664-345f-4cb0-c380-785601d64a76"
      },
      "execution_count": 28,
      "outputs": [
        {
          "output_type": "execute_result",
          "data": {
            "text/plain": [
              "909"
            ]
          },
          "metadata": {},
          "execution_count": 28
        }
      ]
    }
  ]
}