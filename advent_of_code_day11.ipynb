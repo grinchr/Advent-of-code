{
  "nbformat": 4,
  "nbformat_minor": 0,
  "metadata": {
    "colab": {
      "provenance": [],
      "machine_shape": "hm",
      "mount_file_id": "1ic8gYZu7s0w7FWerfAcqHVnqKARm80RH",
      "authorship_tag": "ABX9TyNGGSjiCRaI9U/GiIsW2c/E",
      "include_colab_link": true
    },
    "kernelspec": {
      "name": "python3",
      "display_name": "Python 3"
    },
    "language_info": {
      "name": "python"
    },
    "gpuClass": "standard"
  },
  "cells": [
    {
      "cell_type": "markdown",
      "metadata": {
        "id": "view-in-github",
        "colab_type": "text"
      },
      "source": [
        "<a href=\"https://colab.research.google.com/github/grinchr/Advent-of-code/blob/main/advent_of_code_day11.ipynb\" target=\"_parent\"><img src=\"https://colab.research.google.com/assets/colab-badge.svg\" alt=\"Open In Colab\"/></a>"
      ]
    },
    {
      "cell_type": "code",
      "source": [
        "data = open('/content/data_day11.txt', 'r').read().split('\\n\\n')"
      ],
      "metadata": {
        "id": "jOZcyVo0fsKS"
      },
      "execution_count": 3,
      "outputs": []
    },
    {
      "cell_type": "code",
      "source": [
        "test_data=\"\"\"Monkey 0:\n",
        "  Starting items: 79, 98\n",
        "  Operation: new = old * 19\n",
        "  Test: divisible by 23\n",
        "    If true: throw to monkey 2\n",
        "    If false: throw to monkey 3\n",
        "\n",
        "Monkey 1:\n",
        "  Starting items: 54, 65, 75, 74\n",
        "  Operation: new = old + 6\n",
        "  Test: divisible by 19\n",
        "    If true: throw to monkey 2\n",
        "    If false: throw to monkey 0\n",
        "\n",
        "Monkey 2:\n",
        "  Starting items: 79, 60, 97\n",
        "  Operation: new = old * old\n",
        "  Test: divisible by 13\n",
        "    If true: throw to monkey 1\n",
        "    If false: throw to monkey 3\n",
        "\n",
        "Monkey 3:\n",
        "  Starting items: 74\n",
        "  Operation: new = old + 3\n",
        "  Test: divisible by 17\n",
        "    If true: throw to monkey 0\n",
        "    If false: throw to monkey 1\"\"\".split('\\n\\n')\n",
        "\n"
      ],
      "metadata": {
        "id": "QdrG7NvDCqY1"
      },
      "execution_count": 2,
      "outputs": []
    },
    {
      "cell_type": "code",
      "source": [
        "monkeys = {}\n",
        "map = [lambda old : old * 11, lambda old : old + 4,  lambda old :old * 19, lambda old :old * old, lambda old :old + 1, lambda old : old + 3, lambda old :old + 8, lambda old :old + 7]\n",
        "\n",
        "#map = [lambda old : old * 19, lambda old : old + 6,  lambda old :old * old, lambda old :old + 3]\n",
        "import re\n",
        "for m in data:\n",
        "  m = m.split(\"\\n\")\n",
        "  monkeys[m[0][:-1]] = {\"items\": re.findall(r'\\d+', m[1]), \n",
        "                        #\"operation\": lambda old : eval(m[2].split(\"=\")[-1]),\n",
        "                        \"operation\": map[eval(m[0][-2])],\n",
        "                        \"test\": eval(re.findall(r'\\d+', m[3])[0]),\n",
        "                        True: eval(re.findall(r'\\d+', m[4])[0]),\n",
        "                        False: eval(re.findall(r'\\d+', m[5])[0])}\n",
        "  monkeys[m[0][:-1]]['items'] = [eval(i) for i in monkeys[m[0][:-1]]['items']]\n",
        "\n",
        "\n",
        "inspected = {}\n",
        "\n",
        "N = 1\n",
        "for m in monkeys:\n",
        "  inspected[m] = 0\n",
        "  N*=monkeys[m][\"test\"]\n",
        "\n",
        "\n",
        "\n",
        "\n",
        "from tqdm import tqdm\n",
        "for round in tqdm(range(20)):\n",
        "  #print(f\"round  {round}\")\n",
        "  for m in monkeys:\n",
        "    #print(f\"{m}:\")\n",
        "    #m = f\"Monkey {t}\"\n",
        "    for item in monkeys[m]['items']:\n",
        "      #print(f\"  worry level of {item}\")\n",
        "\n",
        "      item = monkeys[m]['operation'](item)\n",
        "      #print(f\"  trans to {item}\")\n",
        "      item = item//3\n",
        "      #print(f\"  div by 3 to {item}\")\n",
        "      #print(item)\n",
        "      bol =  item % monkeys[m]['test']== 0\n",
        "      \n",
        "      #print(f\"  {item} is div by {monkeys[m]['test']} = {bol}\")\n",
        "      #print(f\" sends {item} to {monkeys[m][bol]}\")\n",
        "      monkeys[f\"Monkey {monkeys[m][bol]}\"][\"items\"].append(item)\n",
        "      #print(\"\")\n",
        "      inspected[m] += 1 \n",
        "    monkeys[m]['items'] = []\n",
        "\n",
        "for m in monkeys:\n",
        "  pass\n",
        "  #print(f\"{m}{monkeys[m]['items']}\")\n",
        "print(\"\")\n",
        "print(\"after \",round+1)\n",
        "for key, value in inspected.items():\n",
        "  print(key,value)\n",
        "sorted(inspected.values())[-1]*sorted(inspected.values())[-2]"
      ],
      "metadata": {
        "colab": {
          "base_uri": "https://localhost:8080/"
        },
        "id": "DVS-8VuZ_CNS",
        "outputId": "ac5b28aa-65d6-4449-c4ce-393d30868483"
      },
      "execution_count": 6,
      "outputs": [
        {
          "output_type": "stream",
          "name": "stderr",
          "text": [
            "100%|██████████| 20/20 [00:00<00:00, 17271.17it/s]"
          ]
        },
        {
          "output_type": "stream",
          "name": "stdout",
          "text": [
            "\n",
            "after  20\n",
            "Monkey 0 192\n",
            "Monkey 1 276\n",
            "Monkey 2 201\n",
            "Monkey 3 15\n",
            "Monkey 4 257\n",
            "Monkey 5 87\n",
            "Monkey 6 138\n",
            "Monkey 7 278\n"
          ]
        },
        {
          "output_type": "stream",
          "name": "stderr",
          "text": [
            "\n"
          ]
        },
        {
          "output_type": "execute_result",
          "data": {
            "text/plain": [
              "76728"
            ]
          },
          "metadata": {},
          "execution_count": 6
        }
      ]
    },
    {
      "cell_type": "code",
      "source": [
        "monkeys = {}\n",
        "map = [lambda old : old * 11, lambda old : old + 4,  lambda old :old * 19, lambda old :old * old, lambda old :old + 1, lambda old : old + 3, lambda old :old + 8, lambda old :old + 7]\n",
        "for m in data:\n",
        "  m = m.split(\"\\n\")\n",
        "  monkeys[m[0][:-1]] = {\"items\": re.findall(r'\\d+', m[1]), \n",
        "                        #\"operation\": lambda old : eval(m[2].split(\"=\")[-1]),\n",
        "                        \"operation\": map[eval(m[0][-2])],\n",
        "                        \"test\": eval(re.findall(r'\\d+', m[3])[0]),\n",
        "                        True: eval(re.findall(r'\\d+', m[4])[0]),\n",
        "                        False: eval(re.findall(r'\\d+', m[5])[0])}\n",
        "  monkeys[m[0][:-1]]['items'] = [eval(i) for i in monkeys[m[0][:-1]]['items']]\n",
        "\n",
        "inspected = {}\n",
        "\n",
        "N = 1\n",
        "for m in monkeys:\n",
        "  inspected[m] = 0\n",
        "  N*=monkeys[m][\"test\"]\n",
        "\n",
        "print(N)\n",
        "\n",
        "\n",
        "from tqdm import tqdm\n",
        "for round in tqdm(range(10000)):\n",
        "  for m in monkeys:\n",
        "    for item in monkeys[m]['items']:\n",
        "      item = monkeys[m]['operation'](item)\n",
        "      item %= N\n",
        "      bol =  item % monkeys[m]['test']== 0      \n",
        "      monkeys[f\"Monkey {monkeys[m][bol]}\"][\"items\"].append(item)\n",
        "      inspected[m] += 1 \n",
        "    monkeys[m]['items'] = []\n",
        "\n",
        "print(\"\")\n",
        "print(\"after \",round+1)\n",
        "for key, value in inspected.items():\n",
        "  print(key,value)\n",
        "sorted(inspected.values())[-1]*sorted(inspected.values())[-2]"
      ],
      "metadata": {
        "colab": {
          "base_uri": "https://localhost:8080/"
        },
        "id": "Va3cF5ZcOl5R",
        "outputId": "e4955a31-0a1f-4901-e342-74e123b7b3ac"
      },
      "execution_count": 7,
      "outputs": [
        {
          "output_type": "stream",
          "name": "stdout",
          "text": [
            "9699690\n"
          ]
        },
        {
          "output_type": "stream",
          "name": "stderr",
          "text": [
            "100%|██████████| 10000/10000 [00:00<00:00, 17412.27it/s]"
          ]
        },
        {
          "output_type": "stream",
          "name": "stdout",
          "text": [
            "\n",
            "after  10000\n",
            "Monkey 0 132749\n",
            "Monkey 1 146812\n",
            "Monkey 2 142106\n",
            "Monkey 3 21504\n",
            "Monkey 4 137507\n",
            "Monkey 5 20747\n",
            "Monkey 6 43332\n",
            "Monkey 7 146813\n"
          ]
        },
        {
          "output_type": "stream",
          "name": "stderr",
          "text": [
            "\n"
          ]
        },
        {
          "output_type": "execute_result",
          "data": {
            "text/plain": [
              "21553910156"
            ]
          },
          "metadata": {},
          "execution_count": 7
        }
      ]
    }
  ]
}